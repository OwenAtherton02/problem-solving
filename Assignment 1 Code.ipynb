{
 "cells": [
  {
   "cell_type": "code",
   "execution_count": 1,
   "id": "5b3fd295-28ee-4d7d-8561-cc4398425da4",
   "metadata": {
    "tags": []
   },
   "outputs": [
    {
     "name": "stdout",
     "output_type": "stream",
     "text": [
      "[1 5 6 1 7 8 5 3 8 1 9 0 9 9 8 7 5 2 7 9 6 5 1 6 7 3 0 3 3 6 9 5 4 9 3 2 5\n",
      " 7 2 9 1 0 1 1 2 3 5 8 3 1 4 5 9 4 3 7 0 7 7 4 1 5 6 1 7 8 5 3 8 1 9 0 9 9\n",
      " 8 7 5 2 7 9 6 5 1 6 7 3 0 3 3 6 9 5 4 9 3 2 5 7 2 9]\n"
     ]
    }
   ],
   "source": [
    "import numpy as np\n",
    "\n",
    "x0 = 1\n",
    "x1 = 5\n",
    "seq = np.array([x0,x1])\n",
    "for i in range (2, 100):\n",
    "    x_next = (seq[i-1] + seq[i-2])%10\n",
    "    seq = np.append(seq, x_next)\n",
    "print (seq)"
   ]
  },
  {
   "cell_type": "code",
   "execution_count": 2,
   "id": "e9e59c89-4986-4f8f-af25-c7a8e13d2b84",
   "metadata": {
    "tags": []
   },
   "outputs": [
    {
     "name": "stdout",
     "output_type": "stream",
     "text": [
      "p(1,2) is 60\n",
      "The repeating sequence is:\n",
      "[1 2 3 5 8 3 1 4 5 9 4 3 7 0 7 7 4 1 5 6 1 7 8 5 3 8 1 9 0 9 9 8 7 5 2 7 9\n",
      " 6 5 1 6 7 3 0 3 3 6 9 5 4 9 3 2 5 7 2 9 1 0 1]\n"
     ]
    }
   ],
   "source": [
    "n = 100\n",
    "x0 = 1\n",
    "x1 = 2\n",
    "seq = np.array([x0,x1])\n",
    "for i in range (2, n):\n",
    "    x_next = (seq[i-1] + seq[i-2])%10\n",
    "    seq = np.append(seq, x_next)\n",
    "    if (seq[i-1] == x0) and (seq[i] == x1):\n",
    "        print (\"p(\" + str(x0) + \",\" + str(x1) + \") is \" + str(i-1))\n",
    "        break\n",
    "print (\"The repeating sequence is:\")\n",
    "print (seq[:-2])"
   ]
  },
  {
   "cell_type": "code",
   "execution_count": 3,
   "id": "e425b2c8-071d-4692-99d7-efdcf0ab7176",
   "metadata": {
    "tags": []
   },
   "outputs": [
    {
     "name": "stdout",
     "output_type": "stream",
     "text": [
      "B(0,0) is [0]\n",
      "B(0,1) is [0 1 1 2 3 5 8 3 1 4 5 9 4 3 7 0 7 7 4 1 5 6 1 7 8 5 3 8 1 9 0 9 9 8 7 5 2\n",
      " 7 9 6 5 1 6 7 3 0 3 3 6 9 5 4 9 3 2 5 7 2 9 1]\n",
      "B(0,2) is [0 2 2 4 6 0 6 6 2 8 0 8 8 6 4 0 4 4 8 2]\n",
      "Bracelet already produced for (a,b) = (0,3).\n",
      "Bracelet already produced for (a,b) = (0,4).\n",
      "B(0,5) is [0 5 5]\n",
      "Bracelet already produced for (a,b) = (0,6).\n",
      "Bracelet already produced for (a,b) = (0,7).\n",
      "Bracelet already produced for (a,b) = (0,8).\n",
      "Bracelet already produced for (a,b) = (0,9).\n",
      "B(1,0) is [1 0 1 1 2 3 5 8 3 1 4 5 9 4 3 7 0 7 7 4 1 5 6 1 7 8 5 3 8 1 9 0 9 9 8 7 5\n",
      " 2 7 9 6 5 1 6 7 3 0 3 3 6 9 5 4 9 3 2 5 7 2 9]\n",
      "Bracelet already produced for (a,b) = (1,1).\n",
      "Bracelet already produced for (a,b) = (1,2).\n",
      "B(1,3) is [1 3 4 7 1 8 9 7 6 3 9 2]\n",
      "Bracelet already produced for (a,b) = (1,4).\n",
      "Bracelet already produced for (a,b) = (1,5).\n",
      "Bracelet already produced for (a,b) = (1,6).\n",
      "Bracelet already produced for (a,b) = (1,7).\n",
      "Bracelet already produced for (a,b) = (1,8).\n",
      "Bracelet already produced for (a,b) = (1,9).\n",
      "B(2,0) is [2 0 2 2 4 6 0 6 6 2 8 0 8 8 6 4 0 4 4 8]\n",
      "B(2,1) is [2 1 3 4 7 1 8 9 7 6 3 9]\n",
      "Bracelet already produced for (a,b) = (2,2).\n",
      "Bracelet already produced for (a,b) = (2,3).\n",
      "Bracelet already produced for (a,b) = (2,4).\n",
      "Bracelet already produced for (a,b) = (2,5).\n",
      "B(2,6) is [2 6 8 4]\n",
      "Bracelet already produced for (a,b) = (2,7).\n",
      "Bracelet already produced for (a,b) = (2,8).\n",
      "Bracelet already produced for (a,b) = (2,9).\n",
      "Bracelet already produced for (a,b) = (3,0).\n",
      "Bracelet already produced for (a,b) = (3,1).\n",
      "Bracelet already produced for (a,b) = (3,2).\n",
      "Bracelet already produced for (a,b) = (3,3).\n",
      "Bracelet already produced for (a,b) = (3,4).\n",
      "Bracelet already produced for (a,b) = (3,5).\n",
      "Bracelet already produced for (a,b) = (3,6).\n",
      "Bracelet already produced for (a,b) = (3,7).\n",
      "Bracelet already produced for (a,b) = (3,8).\n",
      "Bracelet already produced for (a,b) = (3,9).\n",
      "Bracelet already produced for (a,b) = (4,0).\n",
      "Bracelet already produced for (a,b) = (4,1).\n",
      "B(4,2) is [4 2 6 8]\n",
      "Bracelet already produced for (a,b) = (4,3).\n",
      "Bracelet already produced for (a,b) = (4,4).\n",
      "Bracelet already produced for (a,b) = (4,5).\n",
      "Bracelet already produced for (a,b) = (4,6).\n",
      "Bracelet already produced for (a,b) = (4,7).\n",
      "Bracelet already produced for (a,b) = (4,8).\n",
      "Bracelet already produced for (a,b) = (4,9).\n",
      "B(5,0) is [5 0 5]\n",
      "Bracelet already produced for (a,b) = (5,1).\n",
      "Bracelet already produced for (a,b) = (5,2).\n",
      "Bracelet already produced for (a,b) = (5,3).\n",
      "Bracelet already produced for (a,b) = (5,4).\n",
      "Bracelet already produced for (a,b) = (5,5).\n",
      "Bracelet already produced for (a,b) = (5,6).\n",
      "Bracelet already produced for (a,b) = (5,7).\n",
      "Bracelet already produced for (a,b) = (5,8).\n",
      "Bracelet already produced for (a,b) = (5,9).\n",
      "Bracelet already produced for (a,b) = (6,0).\n",
      "Bracelet already produced for (a,b) = (6,1).\n",
      "Bracelet already produced for (a,b) = (6,2).\n",
      "Bracelet already produced for (a,b) = (6,3).\n",
      "Bracelet already produced for (a,b) = (6,4).\n",
      "Bracelet already produced for (a,b) = (6,5).\n",
      "Bracelet already produced for (a,b) = (6,6).\n",
      "Bracelet already produced for (a,b) = (6,7).\n",
      "Bracelet already produced for (a,b) = (6,8).\n",
      "Bracelet already produced for (a,b) = (6,9).\n",
      "Bracelet already produced for (a,b) = (7,0).\n",
      "Bracelet already produced for (a,b) = (7,1).\n",
      "Bracelet already produced for (a,b) = (7,2).\n",
      "Bracelet already produced for (a,b) = (7,3).\n",
      "Bracelet already produced for (a,b) = (7,4).\n",
      "Bracelet already produced for (a,b) = (7,5).\n",
      "Bracelet already produced for (a,b) = (7,6).\n",
      "Bracelet already produced for (a,b) = (7,7).\n",
      "Bracelet already produced for (a,b) = (7,8).\n",
      "Bracelet already produced for (a,b) = (7,9).\n",
      "Bracelet already produced for (a,b) = (8,0).\n",
      "Bracelet already produced for (a,b) = (8,1).\n",
      "Bracelet already produced for (a,b) = (8,2).\n",
      "Bracelet already produced for (a,b) = (8,3).\n",
      "Bracelet already produced for (a,b) = (8,4).\n",
      "Bracelet already produced for (a,b) = (8,5).\n",
      "Bracelet already produced for (a,b) = (8,6).\n",
      "Bracelet already produced for (a,b) = (8,7).\n",
      "Bracelet already produced for (a,b) = (8,8).\n",
      "Bracelet already produced for (a,b) = (8,9).\n",
      "Bracelet already produced for (a,b) = (9,0).\n",
      "Bracelet already produced for (a,b) = (9,1).\n",
      "Bracelet already produced for (a,b) = (9,2).\n",
      "Bracelet already produced for (a,b) = (9,3).\n",
      "Bracelet already produced for (a,b) = (9,4).\n",
      "Bracelet already produced for (a,b) = (9,5).\n",
      "Bracelet already produced for (a,b) = (9,6).\n",
      "Bracelet already produced for (a,b) = (9,7).\n",
      "Bracelet already produced for (a,b) = (9,8).\n",
      "Bracelet already produced for (a,b) = (9,9).\n",
      "The total number of bracelets is 11.\n",
      "[0]\n",
      "[0 1 1 2 3 5 8 3 1 4 5 9 4 3 7 0 7 7 4 1 5 6 1 7 8 5 3 8 1 9 0 9 9 8 7 5 2\n",
      " 7 9 6 5 1 6 7 3 0 3 3 6 9 5 4 9 3 2 5 7 2 9 1]\n",
      "[0 2 2 4 6 0 6 6 2 8 0 8 8 6 4 0 4 4 8 2]\n",
      "[0 5 5]\n",
      "[1 3 4 7 1 8 9 7 6 3 9 2]\n",
      "[2 6 8 4]\n"
     ]
    }
   ],
   "source": [
    "def check_different(ab,B_cd):\n",
    "    different = True\n",
    "    N = len(ab)\n",
    "    possibles = np.where(B_cd == ab[0])[0]\n",
    "    solns = []\n",
    "    for p in possibles:\n",
    "        check = B_cd[p:p+N]\n",
    "        if np.all(check == ab):\n",
    "            solns.append(p)\n",
    "    if solns != []:\n",
    "        different = False\n",
    "    return different\n",
    "\n",
    "bracelets = []\n",
    "n = 100\n",
    "for k in range(10):\n",
    "    for j in range(10):\n",
    "        x0 = k\n",
    "        x1 = j\n",
    "        seq = np.array([x0,x1])\n",
    "        truth_list = np.array([])\n",
    "        if bracelets != []:\n",
    "            for B_ab in bracelets[1:]:\n",
    "                truth_list = np.append(truth_list,check_different(seq, B_ab))\n",
    "        if np.any(truth_list == 0):\n",
    "            print (\"Bracelet already produced for (a,b) = (\" + str(x0) + \",\" + str(x1) + \").\")\n",
    "        else:\n",
    "            for i in range (2, n):\n",
    "                x_next = (seq[i-1] + seq[i-2])%10\n",
    "                seq = np.append(seq, x_next)\n",
    "                if (seq[i-1] == x0) and (seq[i] == x1):\n",
    "                    print (\"B(\" + str(x0) + \",\" + str(x1) + \") is \" + str(seq[:-2]))\n",
    "                    bracelets.append(seq[:-2])\n",
    "                    break\n",
    "                if i == n-1 :\n",
    "                    print (\"bracelet potentially longer than \" + str(n) + \" for (a,b) = (\" + str(x0) + \",\" + str(x1) + \").\")\n",
    "print (\"The total number of bracelets is \" + str(len(bracelets)) + \".\")\n",
    "print (bracelets[0])\n",
    "print (bracelets[1])\n",
    "print (bracelets[2])\n",
    "print (bracelets[3])\n",
    "print (bracelets[5])\n",
    "print (bracelets[8])"
   ]
  },
  {
   "cell_type": "code",
   "execution_count": 15,
   "id": "8ca8757e-49db-42b2-9bd7-ab47b60f4e65",
   "metadata": {
    "tags": []
   },
   "outputs": [
    {
     "name": "stdout",
     "output_type": "stream",
     "text": [
      "1 0\n",
      "2 0\n",
      "2 1\n",
      "4 2\n",
      "5 0\n",
      "[1. 1. 1. 1. 1. 1. 1. 1. 1. 1. 0. 1. 1. 1. 1. 1. 1. 1. 1. 1. 0. 0. 1. 1.\n",
      " 1. 1. 1. 1. 1. 1. 1. 1. 1. 1. 1. 1. 1. 1. 1. 1. 1. 1. 0. 1. 1. 1. 1. 1.\n",
      " 1. 1. 0. 1. 1. 1. 1. 1. 1. 1. 1. 1. 1. 1. 1. 1. 1. 1. 1. 1. 1. 1. 1. 1.\n",
      " 1. 1. 1. 1. 1. 1. 1. 1. 1. 1. 1. 1. 1. 1. 1. 1. 1. 1. 1. 1. 1. 1. 1. 1.\n",
      " 1. 1. 1. 1.]\n",
      "100\n"
     ]
    }
   ],
   "source": [
    "bracelets2 = [bracelets[0], bracelets[1], bracelets[2], bracelets[3], bracelets[5], bracelets[8]]\n",
    "truth_array_inputs = np.array([])\n",
    "for k in range(10):\n",
    "    for j in range(10):\n",
    "        x0 = k\n",
    "        x1 = j\n",
    "        seq = np.array([x0,x1])\n",
    "        truth_array_bracelets = np.array([])\n",
    "        for B_ab in bracelets2:\n",
    "            truth_array_bracelets = np.append(truth_array_bracelets,check_different(seq, B_ab))\n",
    "        if np.any(truth_array_bracelets == 0):\n",
    "            truth_array_inputs = np.append(truth_array_inputs, True)\n",
    "        else:\n",
    "            print (x0,x1)\n",
    "            truth_array_inputs = np.append(truth_array_inputs, False)\n",
    "\n",
    "print (truth_array_inputs)\n",
    "print (len(truth_array_inputs))"
   ]
  }
 ],
 "metadata": {
  "kernelspec": {
   "display_name": "Python 3 (ipykernel)",
   "language": "python",
   "name": "python3"
  },
  "language_info": {
   "codemirror_mode": {
    "name": "ipython",
    "version": 3
   },
   "file_extension": ".py",
   "mimetype": "text/x-python",
   "name": "python",
   "nbconvert_exporter": "python",
   "pygments_lexer": "ipython3",
   "version": "3.11.5"
  }
 },
 "nbformat": 4,
 "nbformat_minor": 5
}
