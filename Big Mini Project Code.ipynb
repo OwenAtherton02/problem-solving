{
 "cells": [
  {
   "cell_type": "code",
   "execution_count": 1,
   "id": "f831d55d-2782-4b7e-bc61-73f069ca0129",
   "metadata": {
    "tags": []
   },
   "outputs": [],
   "source": [
    "import numpy as np\n",
    "import math"
   ]
  },
  {
   "cell_type": "code",
   "execution_count": null,
   "id": "13cfbe8e-5fa3-431b-8669-5382bf480ad0",
   "metadata": {
    "tags": []
   },
   "outputs": [],
   "source": [
    "def B_fullest(state):\n",
    "    indices_of_max_val = np.where(state==np.max(state))[0] #array of indices where we have the max value\n",
    "\n",
    "    largest_neighbours = []\n",
    "    for index in indices_of_max_val:\n",
    "        before = state[(index-1)%len(state)] #modulo ensures circular indexing\n",
    "        after = state[(index+1)%len(state)]\n",
    "        largest_neighbours.append(np.array([max(before,after),math.copysign(1,after-before)]))\n",
    "        #appends to largest_neighbours, the value of the largest neighbour (for comparison) and its index in relation to the max_value we care about.\n",
    "\n",
    "    largest_neighbours = np.array(largest_neighbours)\n",
    "    row_index_of_largest_of_neighbours = np.argmax(largest_neighbours[:,0])\n",
    "    #takes the first column and compares the values and returns the index of the largest\n",
    "    which_neighbour = largest_neighbours[row_index_of_largest_of_neighbours,1]\n",
    "    #finds the value to add to the index to choose the correct neighbour\n",
    "    index_of_chosen = indices_of_max_val[row_index_of_largest_of_neighbours] #finds the index in the original array of the max val we want\n",
    "    index_of_neighbour = int((index_of_chosen + which_neighbour)%len(state)) #finds the index in the original array of its largest neighbour\n",
    "\n",
    "    state[index_of_chosen] = 0 #empties both glasses\n",
    "    state[index_of_neighbour] = 0\n",
    "    \n",
    "    return index_of_chosen, index_of_neighbour, state\n",
    "\n",
    "n = 8\n",
    "T = 20 #max turns\n",
    "\n",
    "glasses = np.zeros(n)\n",
    "\n",
    "print(\"Turn 1\")\n",
    "for i in range(len(glasses)):\n",
    "    while True:\n",
    "        try:\n",
    "            glasses[i] += float(input(f\"How much would you like to add to glass {i+1}?\"))\n",
    "            break\n",
    "        except ValueError:\n",
    "            print(\"Please input a decimal.\")\n",
    "print(f\"Your turn resulted in {glasses}\")\n",
    "        \n",
    "t = 1\n",
    "while np.all(glasses <= 1) and t <= T:\n",
    "    t += 1\n",
    "    empty1, empty2, glasses = B_fullest(glasses)\n",
    "    print(f\"B emptied glasses {empty1+1} and {empty2+1} resulting in {glasses}.\")\n",
    "    print (f\"Turn {t}\")\n",
    "    for i in range(len(glasses)):\n",
    "        while True:\n",
    "            try:\n",
    "                glasses[i] += float(input(f\"How much would you like to add to glass {i+1}?\"))\n",
    "                break\n",
    "            except ValueError:\n",
    "                print(\"Please input a decimal.\")\n",
    "    print(f\"Your turn resulted in {glasses}\")"
   ]
  },
  {
   "cell_type": "code",
   "execution_count": 2,
   "id": "ad582786-9526-4207-b6e5-23dd7275caad",
   "metadata": {
    "tags": []
   },
   "outputs": [
    {
     "name": "stdout",
     "output_type": "stream",
     "text": [
      "0.9166666666666666\n"
     ]
    }
   ],
   "source": [
    "def last_glass(n):\n",
    "    indices = np.arange(1,n/2+1)\n",
    "    summand = 1/(2*indices)\n",
    "    return np.sum(summand)\n",
    "\n",
    "n=6\n",
    "\n",
    "print(last_glass(n))"
   ]
  },
  {
   "cell_type": "code",
   "execution_count": 3,
   "id": "933a9f14-b487-45ae-8020-0a1c7766e33f",
   "metadata": {
    "tags": []
   },
   "outputs": [
    {
     "name": "stdout",
     "output_type": "stream",
     "text": [
      "(544801200, 10.000000000809116)\n"
     ]
    }
   ],
   "source": [
    "def glasses_needed(V,w):\n",
    "    n = 0\n",
    "    last_glass = 0\n",
    "    while last_glass <= V:\n",
    "        n += 2\n",
    "        last_glass += 2*w/n\n",
    "    return n, last_glass\n",
    "\n",
    "print(glasses_needed(10,0.5))"
   ]
  },
  {
   "cell_type": "code",
   "execution_count": 4,
   "id": "e810c7b9-58ca-478d-bc35-c94715f03737",
   "metadata": {
    "tags": []
   },
   "outputs": [
    {
     "name": "stdout",
     "output_type": "stream",
     "text": [
      "I need 168 glasses\n",
      "The last glass will overflow because 3.000517143142682 pints of water have been added to it\n",
      "Doing 574 turns of the equal-glasses tactic initially is sufficient to make sure there is 0.4994830068025993 in each of the non-adjacent glasses before I start the harmonic tactic\n"
     ]
    }
   ],
   "source": [
    "def glasses_needed_2(V,w):\n",
    "    n = 2 #have to start from 2 as if I start from 0 I get a division error.\n",
    "    #physically this just means that this tactic isn't possible to with 2 glasses.\n",
    "    last_glass = w\n",
    "    while last_glass <= V:\n",
    "        n += 2\n",
    "        last_glass += w / (n/2 - 1)\n",
    "    return n, last_glass\n",
    "\n",
    "def turns_needed(V, w, n, last_glass, mult):\n",
    "    diff = last_glass-V\n",
    "    eps = diff*mult\n",
    "    t = 0\n",
    "    v_t = 0\n",
    "    while v_t <= w - eps:\n",
    "        t += 1\n",
    "        v_t = w*(1- ((n-2)/n)**t)\n",
    "    return t, v_t\n",
    "        \n",
    "\n",
    "\n",
    "eps_control = 0.5#set to 0.5 to match the rubric, but setting to a number only slightly less than 1 (e.g 1-1e-10) gives a smaller value for T\n",
    "    \n",
    "to_overflow = 3\n",
    "adding = 0.5\n",
    "\n",
    "glasses, vol_in_last_glass = glasses_needed_2(to_overflow,adding)\n",
    "turns, initial_vol = turns_needed(to_overflow, adding, glasses, vol_in_last_glass, eps_control)\n",
    "print (f\"I need {glasses} glasses\")\n",
    "print (f\"The last glass will overflow because {vol_in_last_glass-adding+initial_vol} pints of water have been added to it\")\n",
    "print(f\"Doing {turns} turns of the equal-glasses tactic initially is sufficient to make sure there is {initial_vol} in each of the non-adjacent glasses before I start the harmonic tactic\")"
   ]
  }
 ],
 "metadata": {
  "kernelspec": {
   "display_name": "Python 3 (ipykernel)",
   "language": "python",
   "name": "python3"
  },
  "language_info": {
   "codemirror_mode": {
    "name": "ipython",
    "version": 3
   },
   "file_extension": ".py",
   "mimetype": "text/x-python",
   "name": "python",
   "nbconvert_exporter": "python",
   "pygments_lexer": "ipython3",
   "version": "3.11.5"
  }
 },
 "nbformat": 4,
 "nbformat_minor": 5
}
